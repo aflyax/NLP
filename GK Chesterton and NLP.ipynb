{
 "cells": [
  {
   "cell_type": "markdown",
   "metadata": {},
   "source": [
    "###Code source: http://nbviewer.ipython.org/gist/yoavg/d76121dfde2618422139"
   ]
  },
  {
   "cell_type": "code",
   "execution_count": 20,
   "metadata": {
    "collapsed": true
   },
   "outputs": [],
   "source": [
    "from collections import *\n",
    "\n",
    "def train_char_lm(fname, order=4):\n",
    "    data = open(fname).read()\n",
    "    lm = defaultdict(Counter)\n",
    "    pad = \"~\" * order\n",
    "    data = pad + data\n",
    "    for i in range(len(data)-order):\n",
    "        history, char = data[i:i+order], data[i+order]\n",
    "        lm[history][char]+=1\n",
    "    def normalize(counter):\n",
    "        s = float(sum(counter.values()))\n",
    "        return [(c,cnt/s) for c,cnt in counter.items()]\n",
    "    outlm = {hist:normalize(chars) for hist, chars in lm.items()}\n",
    "    return outlm\n",
    "\n",
    "from random import random\n",
    "\n",
    "def generate_letter(lm, history, order):\n",
    "        history = history[-order:]\n",
    "        dist = lm[history]\n",
    "        x = random()\n",
    "        for c,v in dist:\n",
    "            x = x - v\n",
    "            if x <= 0: return c\n",
    "            \n",
    "def generate_text(lm, order, nletters=1000):\n",
    "    history = \"~\" * order\n",
    "    out = []\n",
    "    for i in range(nletters):\n",
    "        c = generate_letter(lm, history, order)\n",
    "        history = history[-order:] + c\n",
    "        out.append(c)\n",
    "    return \"\".join(out)"
   ]
  },
  {
   "cell_type": "markdown",
   "metadata": {},
   "source": [
    "###Load the text (GK Chesterton's <i>Spice of Life and Other Stories</i>):"
   ]
  },
  {
   "cell_type": "code",
   "execution_count": 12,
   "metadata": {
    "collapsed": false
   },
   "outputs": [
    {
     "name": "stdout",
     "output_type": "stream",
     "text": [
      "--2015-05-26 01:52:15--  http://www.cse.dmu.ac.uk/~mward/gkc/books/Spice_Of_Life.txt\n",
      "Resolving www.cse.dmu.ac.uk (www.cse.dmu.ac.uk)... 146.227.57.195\n",
      "Connecting to www.cse.dmu.ac.uk (www.cse.dmu.ac.uk)|146.227.57.195|:80... connected.\n",
      "HTTP request sent, awaiting response... 200 OK\n",
      "Length: 288051 (281K) [text/plain]\n",
      "Saving to: ‘Spice_Of_Life.txt’\n",
      "\n",
      "100%[======================================>] 288,051      114KB/s   in 2.5s   \n",
      "\n",
      "2015-05-26 01:52:18 (114 KB/s) - ‘Spice_Of_Life.txt’ saved [288051/288051]\n",
      "\n"
     ]
    }
   ],
   "source": [
    "!wget http://www.cse.dmu.ac.uk/~mward/gkc/books/Spice_Of_Life.txt"
   ]
  },
  {
   "cell_type": "code",
   "execution_count": 54,
   "metadata": {
    "collapsed": false
   },
   "outputs": [],
   "source": [
    "lm = train_char_lm(\"Spice_Of_Life.txt\", order=4)"
   ]
  },
  {
   "cell_type": "markdown",
   "metadata": {},
   "source": [
    "###Letter prediction:"
   ]
  },
  {
   "cell_type": "code",
   "execution_count": 23,
   "metadata": {
    "collapsed": false
   },
   "outputs": [
    {
     "data": {
      "text/plain": [
       "[('t', 1.0)]"
      ]
     },
     "execution_count": 23,
     "metadata": {},
     "output_type": "execute_result"
    }
   ],
   "source": [
    "lm['Firs']"
   ]
  },
  {
   "cell_type": "code",
   "execution_count": 27,
   "metadata": {
    "collapsed": false
   },
   "outputs": [
    {
     "data": {
      "text/plain": [
       "[('q', 0.05172413793103448),\n",
       " ('w', 0.017241379310344827),\n",
       " ('e', 0.034482758620689655),\n",
       " ('n', 0.017241379310344827),\n",
       " ('C', 0.034482758620689655),\n",
       " ('r', 0.05172413793103448),\n",
       " ('m', 0.017241379310344827),\n",
       " ('s', 0.08620689655172414),\n",
       " ('i', 0.05172413793103448),\n",
       " ('a', 0.1724137931034483),\n",
       " ('t', 0.10344827586206896),\n",
       " ('p', 0.06896551724137931),\n",
       " ('h', 0.017241379310344827),\n",
       " ('c', 0.1206896551724138),\n",
       " ('o', 0.06896551724137931),\n",
       " ('f', 0.08620689655172414)]"
      ]
     },
     "execution_count": 27,
     "metadata": {},
     "output_type": "execute_result"
    }
   ],
   "source": [
    "lm['rst ']"
   ]
  },
  {
   "cell_type": "markdown",
   "metadata": {},
   "source": [
    "###Let's generate text of increasing complexity of orders (higher order --> greater complexity)'"
   ]
  },
  {
   "cell_type": "code",
   "execution_count": 34,
   "metadata": {
    "collapsed": false
   },
   "outputs": [
    {
     "name": "stdout",
     "output_type": "stream",
     "text": [
      "\n",
      "\n",
      "Assion,\n",
      "posten phy he ninfablea of thes.\n",
      "A phis we ither ut dre the impland intionsentien the beis for\n",
      "hat Weling lempirsto socian as cal an as ve orlonly the ism, to or wor eptic pow fammis the mostile storgame inant, hass, lant;\n",
      "by ourche entioneverventratted be nal topuble knoted what as not is `self-but hestall conat torsand ce of have Cat of Nies Cal and ing them.\n",
      "\n",
      "Buthe he we heir to do scid, ings ally\n",
      "clithe oule an the way,\n",
      "be fichose thalichatic aticand pronotersee ise;\n",
      "but,\n",
      "murstrods therch\n",
      "(aphatich Che postled word itentivichiss; be mend sal sure\n",
      "toduch\n",
      "mer 173-5 frome iths be genst whe for art mystion hus thavence obectly\n",
      "thith; al ve ne begrooder soperitimenit and the Eureastat wessainect of is ast ist yould itte sce, \"I of ate the tithaction an don;\n",
      "by les qually evor Eas al many ifusame pre as lintholl is thempar age the haddling aniteandisto ginning of soll sibuthadend worch,\n",
      "cow of thave G.  Che ford Johe prover hise sayink spir of\n",
      "a vatic Conat elignotterhosimake\n",
      "h\n"
     ]
    }
   ],
   "source": [
    "lm = train_char_lm(\"Spice_Of_Life.txt\", order=2)\n",
    "print(generate_text(lm, 2))"
   ]
  },
  {
   "cell_type": "code",
   "execution_count": 42,
   "metadata": {
    "collapsed": false
   },
   "outputs": [
    {
     "name": "stdout",
     "output_type": "stream",
     "text": [
      "\n",
      "\n",
      "THE RELIGIOUS THOUGHT AND OTHERE ARE epochs and simple and past, is scientime (and, and about than in anythings in that are these Originary and the end it apply\n",
      "enought eagerned up and that wheel; merely to does not\n",
      "see its necessay the expresemblem up at thing stoliday, or the is a church\n",
      "for the was relatest debate the quite like told gestion, this is the Spainful spice of just name\n",
      "unfamiliar\n",
      "trees where\n",
      "or revolution\n",
      "behind the may say that person was utter and different by things (and pedantic false all\n",
      "of it, or experimeval style.\n",
      "\n",
      "Anti-Catholiday with comfortune wishes a pant, excuses\n",
      "will idency\n",
      "and rambling touchiner.\n",
      "\n",
      "Indo-Europer exists as incapacity\n",
      "to writter my fantages, in and competend whisper and combative, you making the first quieterms in the catter has than for that would modern primary\n",
      "for Buddhism of Dickens' sake a great movement oncept they were even his somethink comfortance\n",
      "of theists good extrave really rised to itself oversal;\n",
      "and which this this more publ\n"
     ]
    }
   ],
   "source": [
    "lm = train_char_lm(\"Spice_Of_Life.txt\", order=4)\n",
    "print(generate_text(lm, 4))"
   ]
  },
  {
   "cell_type": "code",
   "execution_count": 46,
   "metadata": {
    "collapsed": false
   },
   "outputs": [
    {
     "name": "stdout",
     "output_type": "stream",
     "text": [
      "\n",
      "\n",
      "THE SPICE OF LIFE**\n",
      "\n",
      "FORGIVE ME if I begin by enacting the pace exhibit all the way from\n",
      "London with a camera to photographer,\n",
      "and at the end of the subject race?  Here, again, the poor lady suffered from delusions; for she laboured\n",
      "under the searching light\n",
      "of spiritual chasm dividing the substance.\n",
      "But when Falstaff (a model of knighthood.  It is only\n",
      "dull materialistic atmosphere\n",
      "that belongs to the river, he gave away his eyes because there is no such thing as a parish.\n",
      "The very foundations is a gift that outweighs many stories of Judge Parry, that children should fully realized.  And that is those who merely\n",
      "bump into a lampless post; to whom the gods forbid to sing,\n",
      "the gods nevertheless I\n",
      "believe his intellectual justification of Dickens carefully, we find that trailing meteor is something of a problem how far the details of life.  True sentimental, it must\n",
      "be because of a name that seems indifference\n",
      "between the Reformation scene and of which the traveller interrupted my drea\n"
     ]
    }
   ],
   "source": [
    "lm = train_char_lm(\"Spice_Of_Life.txt\", order=10)\n",
    "print(generate_text(lm, 10))"
   ]
  },
  {
   "cell_type": "code",
   "execution_count": 61,
   "metadata": {
    "collapsed": false
   },
   "outputs": [
    {
     "name": "stdout",
     "output_type": "stream",
     "text": [
      "\n",
      "\n",
      "THE SPICE OF LIFE\n",
      "\n",
      "by\n",
      "\n",
      "G. K. Chesterton has been nominated as Parish Constable.\n",
      "I do not know whether this was part of a ritual or simply a tail.\n",
      "Well, man has been from the beginning of time this unknown monster.\n",
      "People have always differed about what part of him belonged to himself,\n",
      "and what part was merely an accident.  People have said successively\n",
      "that it was natural to him to be equal,\n",
      "natural to be unequal; natural to obey kings, natural to kill them.\n",
      "The divergence is quite sufficiently a part of ourselves for the full\n",
      "appreciation of the absurdities of others.\n",
      "\n",
      "Nevertheless there clings to the word Humour, especially when he propounds it as a religion.  And I doubt it\n",
      "because it ignores, as the more static pantheism ignores the same\n",
      "rather indescribable element which I can only call identity.\n",
      "I can only dimly describe it as the conviction that it is their business to baffle\n",
      "the reader; and that so long as they baffle him it does not matter\n",
      "if they disappoint him.  But it is \n"
     ]
    }
   ],
   "source": [
    "lm = train_char_lm(\"Spice_Of_Life.txt\", order=15)\n",
    "print(generate_text(lm, 15))"
   ]
  },
  {
   "cell_type": "code",
   "execution_count": 39,
   "metadata": {
    "collapsed": false
   },
   "outputs": [
    {
     "name": "stdout",
     "output_type": "stream",
     "text": [
      "\n",
      "\n",
      "THE SPICE OF LIFE\n",
      "\n",
      "THE COMIC CONSTABLE\n",
      "\n",
      "SOME LITTLE time ago a small, strange incident occurred to me\n",
      "which is not without its application to the history and quality\n",
      "of this country.  I was sitting quietly in rustic retirement,\n",
      "endeavouring to feel as bucolic as possible, when I was summoned\n",
      "to the telephone, not perhaps the most bucolic of institutions.\n",
      "Nor, indeed, was it the voice of any other ale house gaffer that\n",
      "addressed me through the instrument, but the voice of a man I know\n",
      "on one of the big London dailies.\n",
      "\n",
      "He said, \"We hear you've been made Constable of Beaconsfield.\"\n",
      "\n",
      "I turned, stiff with astonishment; I saw the shocking sincerity\n",
      "in his eyes,\n",
      "\n",
      "\"But this is madness,\" I cried, \"It must be a joke.\"\n",
      "\n",
      "\"If it is,\" he said, apologetically, \"it is a joke written up\n",
      "on the church door.\"\n",
      "\n",
      "My wits were scattered to the four winds; I collected them\n",
      "with difficulty.  I could not fancy that those who go to a modern parish\n",
      "church would permit such a thing as a practical joke in the po\n"
     ]
    }
   ],
   "source": [
    "lm = train_char_lm(\"Spice_Of_Life.txt\", order=20)\n",
    "print(generate_text(lm, 20))"
   ]
  }
 ],
 "metadata": {
  "kernelspec": {
   "display_name": "Python 3",
   "language": "python",
   "name": "python3"
  },
  "language_info": {
   "codemirror_mode": {
    "name": "ipython",
    "version": 3
   },
   "file_extension": ".py",
   "mimetype": "text/x-python",
   "name": "python",
   "nbconvert_exporter": "python",
   "pygments_lexer": "ipython3",
   "version": "3.4.3"
  }
 },
 "nbformat": 4,
 "nbformat_minor": 0
}
